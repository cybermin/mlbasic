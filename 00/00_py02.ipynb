{
 "cells": [
  {
   "attachments": {
    "file.png": {
     "image/png": "[encoded data removed]"
    }
   },
   "cell_type": "markdown",
   "metadata": {
    "colab_type": "text",
    "id": "zB5oLSiD0VHt"
   },
   "source": [
    "---\n",
    "# 파일(File)\n",
    "---\n",
    "![file.png](attachment:file.png)\n"
   ]
  },
  {
   "cell_type": "markdown",
   "metadata": {
    "colab_type": "text",
    "id": "sfG_5wBFKVYR"
   },
   "source": [
    "---\n",
    "## **파일 생성**\n",
    "---\n",
    "+ 파일 객체 = open(파일 이름, 파일 열기 모드, encoding='UTF-8’)\n",
    " - 파일명이 한글일 경우는 encoding='UTF-8＇을 사용\n"
   ]
  },
  {
   "cell_type": "code",
   "execution_count": 5,
   "metadata": {},
   "outputs": [
    {
     "data": {
      "text/plain": [
       "'C:\\\\Users\\\\user\\\\work'"
      ]
     },
     "execution_count": 5,
     "metadata": {},
     "output_type": "execute_result"
    }
   ],
   "source": [
    "#jupyter notebook 경로 확인 \n",
    "#경로 추가 ~/work tab키\n",
    "%pwd"
   ]
  },
  {
   "cell_type": "code",
   "execution_count": 56,
   "metadata": {},
   "outputs": [],
   "source": [
    "fp = open('C:/Users/user/work/지역평균기온.txt', 'r', encoding='UTF-8')"
   ]
  },
  {
   "cell_type": "code",
   "execution_count": 12,
   "metadata": {},
   "outputs": [],
   "source": [
    "fdata = fp.read()"
   ]
  },
  {
   "cell_type": "code",
   "execution_count": 52,
   "metadata": {},
   "outputs": [
    {
     "data": {
      "text/plain": [
       "'서울,20\\n부산,26\\n대구,24\\n인천,24\\n광주,25\\n대전,22\\n울산,26\\n세종,23\\n경기,24\\n강원,23\\n충북,26\\n충남,22\\n전북,24\\n전남,23\\n경북,28\\n경남,29\\n제주,26\\n'"
      ]
     },
     "execution_count": 52,
     "metadata": {},
     "output_type": "execute_result"
    }
   ],
   "source": [
    "fdata"
   ]
  },
  {
   "cell_type": "code",
   "execution_count": 17,
   "metadata": {},
   "outputs": [],
   "source": [
    "sdata = fdata.split('\\n')"
   ]
  },
  {
   "cell_type": "code",
   "execution_count": 53,
   "metadata": {},
   "outputs": [
    {
     "data": {
      "text/plain": [
       "['서울,20',\n",
       " '부산,26',\n",
       " '대구,24',\n",
       " '인천,24',\n",
       " '광주,25',\n",
       " '대전,22',\n",
       " '울산,26',\n",
       " '세종,23',\n",
       " '경기,24',\n",
       " '강원,23',\n",
       " '충북,26',\n",
       " '충남,22',\n",
       " '전북,24',\n",
       " '전남,23',\n",
       " '경북,28',\n",
       " '경남,29',\n",
       " '제주,26']"
      ]
     },
     "execution_count": 53,
     "metadata": {},
     "output_type": "execute_result"
    }
   ],
   "source": [
    "sdata"
   ]
  },
  {
   "cell_type": "code",
   "execution_count": 21,
   "metadata": {},
   "outputs": [
    {
     "data": {
      "text/plain": [
       "''"
      ]
     },
     "execution_count": 21,
     "metadata": {},
     "output_type": "execute_result"
    }
   ],
   "source": [
    "sdata.pop()"
   ]
  },
  {
   "cell_type": "code",
   "execution_count": 22,
   "metadata": {},
   "outputs": [
    {
     "data": {
      "text/plain": [
       "17"
      ]
     },
     "execution_count": 22,
     "metadata": {},
     "output_type": "execute_result"
    }
   ],
   "source": [
    "len(sdata)"
   ]
  },
  {
   "cell_type": "code",
   "execution_count": 37,
   "metadata": {},
   "outputs": [
    {
     "name": "stdout",
     "output_type": "stream",
     "text": [
      "['서울', '부산', '대구', '인천', '광주', '대전', '울산', '세종', '경기', '강원', '충북', '충남', '전북', '전남', '경북', '경남', '제주']\n",
      "[20, 26, 24, 24, 25, 22, 26, 23, 24, 23, 26, 22, 24, 23, 28, 29, 26]\n",
      "평균기온 : 24.41 \n",
      "{'서울': 20, '부산': 26, '대구': 24, '인천': 24, '광주': 25, '대전': 22, '울산': 26, '세종': 23, '경기': 24, '강원': 23, '충북': 26, '충남': 22, '전북': 24, '전남': 23, '경북': 28, '경남': 29, '제주': 26}\n"
     ]
    }
   ],
   "source": [
    "area = []\n",
    "temp = []\n",
    "\n",
    "areatemp = {}\n",
    "\n",
    "for item in sdata :\n",
    "    itemsp = item.split(',')\n",
    "    #print(itemsp[0], itemsp[1])\n",
    "    area.append(itemsp[0])\n",
    "    temp.append(int(itemsp[1]))\n",
    "    areatemp[itemsp[0]] = int(itemsp[1])\n",
    "    \n",
    "print(area)\n",
    "print(temp)\n",
    "print(f'평균기온 : {sum(temp)/len(temp):0.2f} ')\n",
    "\n",
    "print(areatemp)"
   ]
  },
  {
   "cell_type": "code",
   "execution_count": 36,
   "metadata": {},
   "outputs": [
    {
     "name": "stdout",
     "output_type": "stream",
     "text": [
      "지역을 입력하세요.부산\n",
      "부산의 기온 26\n"
     ]
    }
   ],
   "source": [
    "a = input('지역을 입력하세요.')\n",
    "idx = area.index(a)\n",
    "print(f'{a}의 기온 {temp[idx]}')"
   ]
  },
  {
   "cell_type": "code",
   "execution_count": 38,
   "metadata": {},
   "outputs": [
    {
     "name": "stdout",
     "output_type": "stream",
     "text": [
      "지역을 입력하세요.부산\n",
      "부산의 기온 26\n"
     ]
    }
   ],
   "source": [
    "a = input('지역을 입력하세요.')\n",
    "print(f'{a}의 기온 {areatemp[a]}')"
   ]
  },
  {
   "cell_type": "code",
   "execution_count": 43,
   "metadata": {},
   "outputs": [
    {
     "data": {
      "text/plain": [
       "{'서울': 20,\n",
       " '부산': 26,\n",
       " '대구': 24,\n",
       " '인천': 24,\n",
       " '광주': 25,\n",
       " '대전': 22,\n",
       " '울산': 26,\n",
       " '세종': 23,\n",
       " '경기': 24,\n",
       " '강원': 23,\n",
       " '충북': 26,\n",
       " '충남': 22,\n",
       " '전북': 24,\n",
       " '전남': 23,\n",
       " '경북': 28,\n",
       " '경남': 29,\n",
       " '제주': 26,\n",
       " '포항': 35}"
      ]
     },
     "execution_count": 43,
     "metadata": {},
     "output_type": "execute_result"
    }
   ],
   "source": [
    "areatemp"
   ]
  },
  {
   "cell_type": "code",
   "execution_count": 74,
   "metadata": {},
   "outputs": [],
   "source": [
    "areatemp['포항'] = 35"
   ]
  },
  {
   "cell_type": "code",
   "execution_count": 75,
   "metadata": {},
   "outputs": [
    {
     "data": {
      "text/plain": [
       "{'서울': '20',\n",
       " '부산': '26',\n",
       " '대구': '24',\n",
       " '인천': '24',\n",
       " '광주': '25',\n",
       " '대전': '22',\n",
       " '울산': '26',\n",
       " '세종': '23',\n",
       " '경기': '24',\n",
       " '강원': '23',\n",
       " '충북': '26',\n",
       " '충남': '22',\n",
       " '전북': '24',\n",
       " '전남': '23',\n",
       " '경북': '28',\n",
       " '경남': '29',\n",
       " '제주': '26',\n",
       " '포항': 35}"
      ]
     },
     "execution_count": 75,
     "metadata": {},
     "output_type": "execute_result"
    }
   ],
   "source": [
    "areatemp"
   ]
  },
  {
   "cell_type": "code",
   "execution_count": 57,
   "metadata": {},
   "outputs": [
    {
     "data": {
      "text/plain": [
       "['서울,20\\n',\n",
       " '부산,26\\n',\n",
       " '대구,24\\n',\n",
       " '인천,24\\n',\n",
       " '광주,25\\n',\n",
       " '대전,22\\n',\n",
       " '울산,26\\n',\n",
       " '세종,23\\n',\n",
       " '경기,24\\n',\n",
       " '강원,23\\n',\n",
       " '충북,26\\n',\n",
       " '충남,22\\n',\n",
       " '전북,24\\n',\n",
       " '전남,23\\n',\n",
       " '경북,28\\n',\n",
       " '경남,29\\n',\n",
       " '제주,26\\n']"
      ]
     },
     "execution_count": 57,
     "metadata": {},
     "output_type": "execute_result"
    }
   ],
   "source": [
    "fdata2 = fp.readlines()\n",
    "\n",
    "fdata2 "
   ]
  },
  {
   "cell_type": "code",
   "execution_count": 60,
   "metadata": {},
   "outputs": [
    {
     "name": "stdout",
     "output_type": "stream",
     "text": [
      "['서울', '부산', '대구', '인천', '광주', '대전', '울산', '세종', '경기', '강원', '충북', '충남', '전북', '전남', '경북', '경남', '제주']\n",
      "[20, 26, 24, 24, 25, 22, 26, 23, 24, 23, 26, 22, 24, 23, 28, 29, 26]\n",
      "평균기온 : 24.41 \n",
      "{'서울': '20', '부산': '26', '대구': '24', '인천': '24', '광주': '25', '대전': '22', '울산': '26', '세종': '23', '경기': '24', '강원': '23', '충북': '26', '충남': '22', '전북': '24', '전남': '23', '경북': '28', '경남': '29', '제주': '26'}\n"
     ]
    }
   ],
   "source": [
    "area = []\n",
    "temp = []\n",
    "\n",
    "areatemp = {}\n",
    "\n",
    "for item in fdata2 :\n",
    "    item = item.replace('\\n', '')\n",
    "    itemsp = item.split(',')\n",
    "    #print(itemsp[0], itemsp[1])\n",
    "    area.append(itemsp[0])\n",
    "    temp.append(int(itemsp[1]))\n",
    "    areatemp[itemsp[0]] = itemsp[1]\n",
    "    \n",
    "print(area)\n",
    "print(temp)\n",
    "print(f'평균기온 : {sum(temp)/len(temp):0.2f} ')\n",
    "\n",
    "print(areatemp)"
   ]
  },
  {
   "cell_type": "markdown",
   "metadata": {
    "colab_type": "text",
    "id": "QepcphA4Knfq"
   },
   "source": [
    "\n",
    "## **파일입력함수**\n",
    "+ read(): 파일의 내용 전체를 문자열로 리턴\n",
    "+ readline(): 파일의 첫 번째 줄을 읽어 출력하는 경우\n",
    "+ readlines(): 파일의 모든 라인을 읽어서 각각의 줄을 요소로 갖는 리스트로 리턴\n"
   ]
  },
  {
   "cell_type": "code",
   "execution_count": 25,
   "metadata": {
    "colab": {
     "base_uri": "https://localhost:8080/",
     "height": 359
    },
    "colab_type": "code",
    "executionInfo": {
     "elapsed": 746,
     "status": "ok",
     "timestamp": 1597977365030,
     "user": {
      "displayName": "kyungmin kim",
      "photoUrl": "",
      "userId": "16779723792716032082"
     },
     "user_tz": -540
    },
    "id": "IoL8AyW5Kppl",
    "outputId": "50bb0ab2-9773-4cbe-dab7-2dc3e7843bc4"
   },
   "outputs": [
    {
     "name": "stdout",
     "output_type": "stream",
     "text": [
      "서울,20\n",
      "부산,26\n",
      "대구,24\n",
      "인천,24\n",
      "광주,25\n",
      "대전,22\n",
      "울산,26\n",
      "세종,23\n",
      "경기,24\n",
      "강원,23\n",
      "충북,26\n",
      "충남,22\n",
      "전북,24\n",
      "전남,23\n",
      "경북,28\n",
      "경남,29\n",
      "제주,26\n",
      "\n",
      "<class 'str'>\n"
     ]
    }
   ],
   "source": [
    "data = f.read()\n",
    "print(data)\n",
    "print(type(data))"
   ]
  },
  {
   "cell_type": "code",
   "execution_count": null,
   "metadata": {
    "colab": {
     "base_uri": "https://localhost:8080/",
     "height": 71
    },
    "colab_type": "code",
    "executionInfo": {
     "elapsed": 621,
     "status": "ok",
     "timestamp": 1597977388901,
     "user": {
      "displayName": "kyungmin kim",
      "photoUrl": "",
      "userId": "16779723792716032082"
     },
     "user_tz": -540
    },
    "id": "rDJGtZSqLBG2",
    "outputId": "40650ce4-1d2a-4184-856e-eba8ca0c281f"
   },
   "outputs": [
    {
     "name": "stdout",
     "output_type": "stream",
     "text": [
      "서울,20\n",
      "\n",
      "<class 'str'>\n"
     ]
    }
   ],
   "source": [
    "data = fp.readline()print(data)\n",
    "print(type(data))"
   ]
  },
  {
   "cell_type": "code",
   "execution_count": null,
   "metadata": {
    "colab": {
     "base_uri": "https://localhost:8080/",
     "height": 73
    },
    "colab_type": "code",
    "executionInfo": {
     "elapsed": 615,
     "status": "ok",
     "timestamp": 1597977806721,
     "user": {
      "displayName": "kyungmin kim",
      "photoUrl": "",
      "userId": "16779723792716032082"
     },
     "user_tz": -540
    },
    "id": "o_p8U3x5LIya",
    "outputId": "ee78eeef-d894-40bb-c19d-be4457679eae"
   },
   "outputs": [
    {
     "name": "stdout",
     "output_type": "stream",
     "text": [
      "['서울,20\\n', '부산,26\\n', '대구,24\\n', '인천,24\\n', '광주,25\\n', '대전,22\\n', '울산,26\\n', '세종,23\\n', '경기,24\\n', '강원,23\\n', '충북,26\\n', '충남,22\\n', '전북,24\\n', '전남,23\\n', '경북,28\\n', '경남,29\\n', '제주,26\\n']\n",
      "<class 'list'>\n"
     ]
    }
   ],
   "source": [
    "data = fp.readlines()\n",
    "print(data)\n",
    "print(type(data))"
   ]
  },
  {
   "cell_type": "code",
   "execution_count": null,
   "metadata": {
    "colab": {
     "base_uri": "https://localhost:8080/",
     "height": 305
    },
    "colab_type": "code",
    "executionInfo": {
     "elapsed": 606,
     "status": "ok",
     "timestamp": 1597977533710,
     "user": {
      "displayName": "kyungmin kim",
      "photoUrl": "",
      "userId": "16779723792716032082"
     },
     "user_tz": -540
    },
    "id": "HxGsDzWn4R1G",
    "outputId": "8d63ed57-95f0-49cc-cf89-62b99f2375d1"
   },
   "outputs": [
    {
     "name": "stdout",
     "output_type": "stream",
     "text": [
      "부산,26\n",
      "대구,24\n",
      "인천,24\n",
      "광주,25\n",
      "대전,22\n",
      "울산,26\n",
      "세종,23\n",
      "경기,24\n",
      "강원,23\n",
      "충북,26\n",
      "충남,22\n",
      "전북,24\n",
      "전남,23\n",
      "경북,28\n",
      "경남,29\n",
      "제주,26\n"
     ]
    }
   ],
   "source": [
    "for line in data :\n",
    "  line = line.replace('\\n', '')\n",
    "  print(line)"
   ]
  },
  {
   "cell_type": "markdown",
   "metadata": {
    "colab_type": "text",
    "id": "aX1MC3XOLRYX"
   },
   "source": [
    "## **파일 닫기**\n",
    "+ 파일 객체.close()"
   ]
  },
  {
   "cell_type": "code",
   "execution_count": 77,
   "metadata": {
    "colab": {},
    "colab_type": "code",
    "id": "uW5IyEbTLS0_"
   },
   "outputs": [],
   "source": [
    "fp.close()"
   ]
  },
  {
   "cell_type": "markdown",
   "metadata": {
    "colab_type": "text",
    "id": "i9Dbs6WOKbey"
   },
   "source": [
    "\n",
    "## **파일출력함수 : write()**\n",
    "\n",
    "\n",
    "\n"
   ]
  },
  {
   "cell_type": "markdown",
   "metadata": {
    "colab_type": "text",
    "id": "ykEQwui74KAQ"
   },
   "source": [
    "\n",
    "## **파일을 open한 후 with…as 구문이 끝나면 자동으로 close**\n",
    "```\n",
    "with open(파일 경로, 모드) as 파일 객체:\n",
    "```"
   ]
  },
  {
   "cell_type": "code",
   "execution_count": 78,
   "metadata": {
    "colab": {},
    "colab_type": "code",
    "id": "GqoaZl354q9S"
   },
   "outputs": [],
   "source": [
    "with open('C:/Users/user/work/지역평균기온.txt', 'w', encoding='utf-8') as f:\n",
    "    for k, v in areatemp.items():\n",
    "        f.write(f'{k},{v}\\n')\n",
    " "
   ]
  },
  {
   "cell_type": "markdown",
   "metadata": {
    "colab_type": "text",
    "id": "may9DpaaQckB"
   },
   "source": [
    "---\n",
    "\n",
    "\n",
    "## 해결문제) \n",
    "코로나확진자.txt 파일을 읽어서 확진자 수가 최저인 지역을 찾으시오.\n",
    "\n",
    "---\n"
   ]
  },
  {
   "cell_type": "code",
   "execution_count": 2,
   "metadata": {},
   "outputs": [],
   "source": [
    "with open('C:/Users/user/work/코로나확진자.txt', 'r', encoding='utf-8')  as fp :\n",
    "    data = fp.readlines()\n",
    "    "
   ]
  },
  {
   "cell_type": "code",
   "execution_count": 3,
   "metadata": {},
   "outputs": [
    {
     "data": {
      "text/plain": [
       "['서울,2360 \\n',\n",
       " '부산,231\\n',\n",
       " '대구,6956\\n',\n",
       " '인천,441\\n',\n",
       " '광주,245\\n',\n",
       " '대전,170\\n',\n",
       " '울산,68\\n',\n",
       " '세종,52\\n',\n",
       " '경기,2119\\n',\n",
       " '강원,90\\n',\n",
       " '충북,89\\n',\n",
       " '충남,219\\n',\n",
       " '전북,52\\n',\n",
       " '전남,44\\n',\n",
       " '경북,1420\\n',\n",
       " '경남,171\\n',\n",
       " '제주,26\\n',\n",
       " '검역,1305']"
      ]
     },
     "execution_count": 3,
     "metadata": {},
     "output_type": "execute_result"
    }
   ],
   "source": [
    "data"
   ]
  },
  {
   "cell_type": "code",
   "execution_count": 19,
   "metadata": {},
   "outputs": [
    {
     "name": "stdout",
     "output_type": "stream",
     "text": [
      "제주\n",
      "{2360: '서울', 231: '부산', 6956: '대구', 441: '인천', 245: '광주', 170: '대전', 68: '울산', 52: '전북', 2119: '경기', 90: '강원', 89: '충북', 219: '충남', 44: '전남', 1420: '경북', 171: '경남', 26: '제주', 1305: '검역'}\n",
      "제주\n"
     ]
    }
   ],
   "source": [
    "k = []\n",
    "v = []\n",
    "\n",
    "dt = {}\n",
    "for item in data :\n",
    "    item = item.replace(\"\\n\", '')\n",
    "    lt = item.split(',')\n",
    "    k.append(lt[0])\n",
    "    v.append(int(lt[1]))\n",
    "    #dt[lt[0]] = int(lt[1])\n",
    "    \n",
    "#idx = v.index(min(v))\n",
    "print(k[v.index(min(v))])\n",
    "\n",
    "\n",
    "dt = dict(zip(v, k))\n",
    "print(dt)\n",
    "print(dt[min(dt.keys())])"
   ]
  },
  {
   "cell_type": "code",
   "execution_count": null,
   "metadata": {},
   "outputs": [],
   "source": []
  }
 ],
 "metadata": {
  "colab": {
   "collapsed_sections": [
    "ietp2_05KHr8",
    "shrYf5spMCdq",
    "_SoM1g2HMM2o"
   ],
   "name": "py01.ipynb",
   "provenance": [],
   "toc_visible": true
  },
  "kernelspec": {
   "display_name": "Python 3",
   "language": "python",
   "name": "python3"
  },
  "language_info": {
   "codemirror_mode": {
    "name": "ipython",
    "version": 3
   },
   "file_extension": ".py",
   "mimetype": "text/x-python",
   "name": "python",
   "nbconvert_exporter": "python",
   "pygments_lexer": "ipython3",
   "version": "3.7.6"
  }
 },
 "nbformat": 4,
 "nbformat_minor": 1
}
