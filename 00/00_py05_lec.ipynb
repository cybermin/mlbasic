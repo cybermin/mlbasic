{
 "cells": [
  {
   "cell_type": "markdown",
   "metadata": {},
   "source": [
    "# 해결문제\n",
    "\n",
    "1. 엑셀파일에서 학생 20명의 5과목 점수 부여\n",
    "2. 첫번째 컬럼은 학생이름이고 나머지 5칸은 과목이름\n",
    "3. 엑셀을 python을 읽음\n",
    "4. 학생들의 합계와 평균을 마지막 2칸에 추가\n",
    "5. 마지막 행에 각 과목별 평균추가\n",
    "6. 학생들의 등위를 맨 오른쪽 칸에 추가\n",
    "7. 과목당 히스토그램\n",
    "8. 각과목의 1등과 해당 학생의 전체 등수를 하나의 그래프로 표현\n",
    "9. 각과목당 사분위를 구하고 박스plot\n",
    "10. 추가된 내용을 새로운 엑셀 파일로 저장"
   ]
  },
  {
   "cell_type": "code",
   "execution_count": 58,
   "metadata": {},
   "outputs": [],
   "source": [
    "#라이브러리 추가\n",
    "import pandas as pd\n",
    "import matplotlib.pyplot as plt\n",
    "\n",
    "# 폰트 적용\n",
    "plt.rcParams['font.family'] = 'Malgun Gothic'\n",
    "# unicode minus를 사용하지 않기 위한 설정 (minus 깨짐현상 방지)\n",
    "plt.rcParams['axes.unicode_minus'] = False"
   ]
  },
  {
   "cell_type": "code",
   "execution_count": 173,
   "metadata": {},
   "outputs": [],
   "source": [
    "#엑셀을 python을 읽음 "
   ]
  },
  {
   "cell_type": "markdown",
   "metadata": {},
   "source": [
    "### 통계함수\n",
    "```\n",
    "데이터프레임.통계함수(axis옵션)\n",
    "```\n",
    "+ count() : NA 값을 제외한 값의 수를 반환 \n",
    "+ min() : 최소\n",
    "+ max() : 최대\n",
    "+ sum() : 합계\n",
    "+ mean() : 평균\n",
    "+ describe() : 요약통계\n",
    "+ quantile() : 0부터 1까지의 분위수 계산 \n",
    "+ axis : 0-각 열별 통계, 1-각 행별 통계"
   ]
  },
  {
   "cell_type": "code",
   "execution_count": 174,
   "metadata": {},
   "outputs": [],
   "source": [
    "#학생들의 합계와 평균을 마지막 2칸에 추가 "
   ]
  },
  {
   "cell_type": "markdown",
   "metadata": {},
   "source": [
    "### 순위 : .rank(옵션)\n",
    "```\n",
    "df['평균'].rank(ascending=False, method='min')\n",
    "```\n",
    "+ 평균열을 기준으로 내림차순 처리 동점인 경우는 공동처리\n",
    "\n",
    "#### ascending 옵션\n",
    "+ ascending=False : 내림차순\n",
    "\n",
    "#### method 옵션\n",
    "+ method=average : 동점처리\n",
    "+ average(평균): 그룹의 평균 순위 부여 (예: 두 명이 공동 1등이라면 둘 다 1.5등으로 처리)\n",
    "+ min(최솟값): 그룹에서 가장 낮은 순위 부여 (예: 두 명이 공동 1등이라면 둘 다 1등으로 처리)\n",
    "+ max(최댓값): 그룹에서 가장 낮은 순위 부여 (예: 두 명이 공동 1등이라면 둘 다 2등으로 처리)\n",
    "+ first(첫 번째): 그룹에서 표시되는 순서대로 순위 부여 (예: 두 명이 공동 1등이라면 순서가 빠른 사람을 1등으로 처리)\n",
    "+ dense(밀도): min과 동일함. 다만 순위는 항상 1씩 증가"
   ]
  },
  {
   "cell_type": "code",
   "execution_count": 175,
   "metadata": {},
   "outputs": [],
   "source": [
    "#학생들의 등위를 맨 오른쪽 칸에 추가 \n"
   ]
  },
  {
   "cell_type": "code",
   "execution_count": 176,
   "metadata": {},
   "outputs": [],
   "source": [
    "#마지막 행에 각 과목별 평균추가 \n",
    " "
   ]
  },
  {
   "cell_type": "code",
   "execution_count": 177,
   "metadata": {},
   "outputs": [],
   "source": [
    "#과목당 히스토그램\n"
   ]
  },
  {
   "cell_type": "code",
   "execution_count": 178,
   "metadata": {},
   "outputs": [],
   "source": [
    "#각과목당 사분위를 구하고 박스plot\n"
   ]
  },
  {
   "cell_type": "code",
   "execution_count": 179,
   "metadata": {},
   "outputs": [],
   "source": [
    "#각과목의 1등과 해당 학생의 전체 등수를 하나의 그래프로 표현"
   ]
  },
  {
   "cell_type": "code",
   "execution_count": null,
   "metadata": {},
   "outputs": [],
   "source": []
  }
 ],
 "metadata": {
  "kernelspec": {
   "display_name": "Python 3",
   "language": "python",
   "name": "python3"
  },
  "language_info": {
   "codemirror_mode": {
    "name": "ipython",
    "version": 3
   },
   "file_extension": ".py",
   "mimetype": "text/x-python",
   "name": "python",
   "nbconvert_exporter": "python",
   "pygments_lexer": "ipython3",
   "version": "3.7.6"
  }
 },
 "nbformat": 4,
 "nbformat_minor": 4
}
