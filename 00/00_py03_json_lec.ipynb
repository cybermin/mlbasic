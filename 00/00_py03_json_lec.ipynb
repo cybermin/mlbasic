{
 "cells": [
  {
   "cell_type": "markdown",
   "metadata": {
    "colab_type": "text",
    "id": "mPM9oXXx6gek"
   },
   "source": [
    "# **JSON(JavaScript Object Notation)**\n",
    "+ 데이타를 교환하는 포맷으로 키-값의 쌍으로 이루어진 컬렉션\n",
    "+ 데이터 포맷이 단순하고 유연함\n",
    "+ 웹 상에서 데이터를 교환하는 데 많이 사용되고 있음\n",
    "\n",
    "## **Python  JSON 표준 라이브러리**\n",
    "\n",
    "\n",
    "```\n",
    "import json\n",
    "```\n",
    "\n",
    "### **JSON 인코딩**\n",
    "\n",
    "\n",
    "```\n",
    "json.dumps()\n",
    "```\n",
    "\n",
    "+ Python 타입의 데이터를 JSON 문자열로 변경\n",
    "+ 딕션너리, 리스트, 튜플을 JSON 문자열로 변경\n",
    "+ 반환값은 JSON 표현을 갖는 문자열(str 타입)\n",
    "+ \"indent\" 옵션\n",
    " - JSON 문자열을 읽기 편하게  Identation이 적용된 문자열 반환\n",
    "\n",
    "```\n",
    "json.dumps(파이썬자료, indent=4)\n",
    "```\n",
    "+ ensure_ascii=False 옵션\n",
    " - 유니코드 문자열 표시,  UTF-8로 수동으로 인코딩"
   ]
  },
  {
   "cell_type": "code",
   "execution_count": 1,
   "metadata": {
    "colab": {},
    "colab_type": "code",
    "id": "CPKcRchg6Q9e"
   },
   "outputs": [],
   "source": [
    "import json"
   ]
  },
  {
   "cell_type": "code",
   "execution_count": null,
   "metadata": {},
   "outputs": [],
   "source": []
  },
  {
   "cell_type": "markdown",
   "metadata": {
    "colab_type": "text",
    "id": "dV9VNxED9pW3"
   },
   "source": [
    "### **JSON 디코딩**\n",
    "\n",
    "\n",
    "```\n",
    "json.loads()\n",
    "```\n",
    "\n",
    "+ JSON 문자열을 딕션너리, 리스트, 튜플과 같은 Python 타입으로 변경\n"
   ]
  },
  {
   "cell_type": "markdown",
   "metadata": {
    "colab_type": "text",
    "id": "-kDISHDT_nHW"
   },
   "source": [
    "\n",
    "\n",
    "---\n",
    "해결문제) data.json 파일을 읽어서 감성분석 문장과 결과 출력하시오.\n",
    "\n",
    "\n",
    "---\n",
    "\n",
    "\n"
   ]
  }
 ],
 "metadata": {
  "colab": {
   "authorship_tag": "ABX9TyOktWhFZe68SrkPzZHvgHj2",
   "collapsed_sections": [],
   "name": "python03_2_모듈_json.ipynb",
   "provenance": []
  },
  "kernelspec": {
   "display_name": "Python 3",
   "language": "python",
   "name": "python3"
  },
  "language_info": {
   "codemirror_mode": {
    "name": "ipython",
    "version": 3
   },
   "file_extension": ".py",
   "mimetype": "text/x-python",
   "name": "python",
   "nbconvert_exporter": "python",
   "pygments_lexer": "ipython3",
   "version": "3.7.6"
  }
 },
 "nbformat": 4,
 "nbformat_minor": 1
}
