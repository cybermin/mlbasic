{
 "cells": [
  {
   "cell_type": "markdown",
   "metadata": {
    "id": "2RhilwISs3tK"
   },
   "source": [
    "# 한글 폰트 추가"
   ]
  },
  {
   "cell_type": "code",
   "execution_count": 1,
   "metadata": {
    "colab": {
     "base_uri": "https://localhost:8080/",
     "height": 54
    },
    "executionInfo": {
     "elapsed": 2533,
     "status": "ok",
     "timestamp": 1601876125342,
     "user": {
      "displayName": "kyungmin kim",
      "photoUrl": "",
      "userId": "16779723792716032082"
     },
     "user_tz": -540
    },
    "id": "4fSyF8eFs5iR",
    "outputId": "700c7a1c-d4cd-4e64-bdd2-33b5d956f58f"
   },
   "outputs": [],
   "source": [
    "#시각화 모듈\n",
    "import matplotlib.pyplot as plt\n",
    "# 폰트 적용\n",
    "plt.rcParams['font.family'] = 'Malgun Gothic'\n",
    "# unicode minus를 사용하지 않기 위한 설정 (minus 깨짐현상 방지)\n",
    "plt.rcParams['axes.unicode_minus'] = False"
   ]
  },
  {
   "cell_type": "markdown",
   "metadata": {
    "id": "40oBOA6wsp_a"
   },
   "source": [
    "# 판다스(pandas)\n",
    "+ 파이썬에서 사용하는 데이터분석 라이브러리\n",
    "\n",
    "+ 행과 열로 이루어진 데이터 객체를 만들어 다룰 수 있게 되며 보다 안정적으로 대용량의 데이터들을 처리하는데 매우 편리한 도구\n",
    "\n",
    "+ NumPy를 기반으로 구축되었으며 과학 컴퓨팅 환경 내에서 다른 많은 타사 라이브러리와 잘 통합되도록 설계"
   ]
  },
  {
   "cell_type": "code",
   "execution_count": 9,
   "metadata": {
    "id": "2LZRqrxkslKQ"
   },
   "outputs": [],
   "source": [
    "import pandas as pd"
   ]
  },
  {
   "cell_type": "markdown",
   "metadata": {
    "id": "9Owd5QMDtsC-"
   },
   "source": [
    "## 외부데이터 가져오기\n",
    "+ csv 읽기\n",
    " - 한글 파일명을 사용할 경우 : df = pd.read_csv(‘파일명‘, engine='python')\n",
    " - 파일 내용 한글이 깨지는 경우 : df = pd.read_csv(‘파일명‘, engine='python', encoding='cp949')\n",
    "\n",
    "```\n",
    "df = pd.read_csv(‘파일명‘)\n",
    "```\n",
    "\n",
    "+ 엑셀 읽기\n",
    " - 한글 파일명을 사용할 경우 : df = pd.read_excel(‘파일명‘)\n",
    "\n",
    "```\n",
    "df = pd.read_excel(‘파일명‘)\n",
    "```"
   ]
  },
  {
   "cell_type": "markdown",
   "metadata": {
    "id": "tIAIk7wkyvJt"
   },
   "source": [
    "## Series\n",
    "\n",
    "+ index로 value를 구분하는 1차원 자료구조"
   ]
  },
  {
   "cell_type": "markdown",
   "metadata": {
    "id": "UF7SP-CkzXn5"
   },
   "source": [
    "### 인덱스와 값 추출"
   ]
  },
  {
   "cell_type": "code",
   "execution_count": null,
   "metadata": {},
   "outputs": [],
   "source": []
  },
  {
   "cell_type": "markdown",
   "metadata": {
    "id": "-d_F2DZk0GrY"
   },
   "source": [
    "### 인덱스로 시리즈 데이터 가져오기"
   ]
  },
  {
   "cell_type": "code",
   "execution_count": null,
   "metadata": {},
   "outputs": [],
   "source": []
  },
  {
   "cell_type": "markdown",
   "metadata": {
    "id": "btYtz3Af151C"
   },
   "source": [
    "### 조건에 맞는 자료 가져오기"
   ]
  },
  {
   "cell_type": "code",
   "execution_count": null,
   "metadata": {},
   "outputs": [],
   "source": []
  },
  {
   "cell_type": "markdown",
   "metadata": {
    "id": "SbBCEYSy2tls"
   },
   "source": [
    "### 시리즈(series) 인덱스 변경하기"
   ]
  },
  {
   "cell_type": "code",
   "execution_count": null,
   "metadata": {},
   "outputs": [],
   "source": []
  },
  {
   "cell_type": "markdown",
   "metadata": {
    "id": "vrG7QIAuRf33"
   },
   "source": [
    "### 시각화"
   ]
  },
  {
   "cell_type": "code",
   "execution_count": null,
   "metadata": {},
   "outputs": [],
   "source": []
  },
  {
   "cell_type": "markdown",
   "metadata": {
    "id": "YbQ3QGhrHCd0"
   },
   "source": [
    "### series 기초 통계\n",
    "*   mean() : 평균 \n",
    "*   max() : 최대\n",
    "*   min() : 최소\n",
    "*   std() : 표준편차\n",
    "*   describe() : 요약 통계량 계산\n",
    " "
   ]
  },
  {
   "cell_type": "code",
   "execution_count": null,
   "metadata": {},
   "outputs": [],
   "source": []
  },
  {
   "cell_type": "markdown",
   "metadata": {
    "id": "lDLDNq94HzYi"
   },
   "source": [
    "### series 자주사용되는 메소드\n",
    "* replace() : 특정값을 가진 요소 값을 변경\n",
    "* equals() : 시리즈와 시리즈가 같은지 비교\n",
    "* isin() : 시리즈에 포함된 값이 있는지 확인\n",
    "* drop_duplicates() : 중복값이 없는 시리즈 반환\n",
    "* append() : 2개이상의 시리즈 연결\n",
    "* sort_index() : 인덱스로 정렬\n",
    "  + ascending = False : 역순 정렬 옵션\n",
    "* sort_values() : 값으로 정렬\n",
    "* to_frame() : 시리즈를 데이터프레임으로 변경"
   ]
  },
  {
   "cell_type": "code",
   "execution_count": null,
   "metadata": {},
   "outputs": [],
   "source": []
  },
  {
   "cell_type": "markdown",
   "metadata": {
    "id": "TTXWrvQnAfNC"
   },
   "source": [
    "### **시리즈 내에 유일한 값 확인**\n",
    "+ .unique() \n",
    " - 개별 컬럼 내에 유일한 값을 확인"
   ]
  },
  {
   "cell_type": "code",
   "execution_count": null,
   "metadata": {},
   "outputs": [],
   "source": []
  },
  {
   "cell_type": "markdown",
   "metadata": {
    "id": "WRs05hxQI-Ia"
   },
   "source": [
    "### series 연산 (인덱스가 같은 것끼리 연산)\n",
    "+ \\+ : 같은 길이의 시리즈와 시리즈 더하기\n",
    "+ \\* : 같은 길이의 시리즈와 시리즈 곱하기"
   ]
  },
  {
   "cell_type": "code",
   "execution_count": null,
   "metadata": {},
   "outputs": [],
   "source": []
  },
  {
   "cell_type": "markdown",
   "metadata": {
    "id": "_w6usBHRWjo-"
   },
   "source": [
    "## 해결문제\n",
    "---\n",
    "해결문제)서울의 8월 20일이후의 미세먼지 변화량을 그래프로 작성하시오.\n",
    "\n",
    "\n",
    "---"
   ]
  },
  {
   "cell_type": "markdown",
   "metadata": {
    "id": "Kk-kx6zcTV4I"
   },
   "source": [
    "---\n",
    "## DataFrame\n",
    "---\n",
    "+ 2차원 자료구조인 DataFrame는 행과 열이 있는 테이블 데이터\n",
    "+ 딕션너리를 데이터 프레임으로 변경\n",
    " - 딕션너리 키 : 열(column)\n",
    " - 딕션너리 값 : 행(row)"
   ]
  },
  {
   "cell_type": "code",
   "execution_count": null,
   "metadata": {},
   "outputs": [],
   "source": []
  },
  {
   "cell_type": "markdown",
   "metadata": {
    "id": "eBEuMg41J8X6"
   },
   "source": [
    "### **N행 확인하기**\n",
    "+ .head(N) \n",
    "  - 데이터프레임의 상위 N개의 행을 출력\n",
    "  - N생략하면 5개 \n",
    "+ .tail(N)  \n",
    " - 하위 N개의 행을 출력"
   ]
  },
  {
   "cell_type": "code",
   "execution_count": null,
   "metadata": {},
   "outputs": [],
   "source": []
  },
  {
   "cell_type": "markdown",
   "metadata": {
    "id": "N6KRdruZ_DbZ"
   },
   "source": [
    "### **정보 확인하기**\n",
    "+ .shape 속성\n",
    " - (행, 열) 크기를 확인하기\n",
    " - 행의 개수 : len(데이터프레임), len(.index), .shape[0]\n",
    " - 열의 개수 : len(.column), .shape[1]"
   ]
  },
  {
   "cell_type": "markdown",
   "metadata": {
    "id": "1KA32PFk_SDV"
   },
   "source": [
    "+ .info()\n",
    " - 데이터프레임에 대한 전반적인 정보\n",
    " - 데이터프레임을 구성하는 행과 열의 크기, 컬럼명, 컬럼을 구성하는 값의 자료형 등을 출력"
   ]
  },
  {
   "cell_type": "markdown",
   "metadata": {
    "id": "clhhRuwF_WM2"
   },
   "source": [
    "+ .count()\n",
    " - Null이 아닌 행의 개수 확인\n",
    " - axis='columns' : Null이 아닌 열의 개수 확인"
   ]
  },
  {
   "cell_type": "markdown",
   "metadata": {
    "id": "-wFv6-8u_nuE"
   },
   "source": [
    "### **값이 나온 횟수**\n",
    "+ .value_counts() \n",
    " - 개별 컬럼 내에 각각의 값이 나온 횟수\n",
    " - normalize 옵션 : % 로도 표현 "
   ]
  },
  {
   "cell_type": "markdown",
   "metadata": {
    "id": "OGp5iVQe_7Vh"
   },
   "source": [
    "### **요약 통계량 확인**\n",
    "+ .describe()\n",
    " - 데이터프레임의 열별 요약 통계량\n",
    " - sum(),mean(), max(), median()등 개별 함수를 사용가능"
   ]
  },
  {
   "cell_type": "markdown",
   "metadata": {
    "id": "QUYaAs4mA8HU"
   },
   "source": [
    "## **데이터프레임 슬라이싱**\n",
    "+ .loc[행인덱싱, 열인덱싱]\n",
    "+ .iloc[행순서번호, 열순서번호]"
   ]
  },
  {
   "cell_type": "markdown",
   "metadata": {
    "id": "kcXt1fpQBFtX"
   },
   "source": [
    "### **.loc : 인덱싱으로 추출**"
   ]
  },
  {
   "cell_type": "markdown",
   "metadata": {
    "id": "NbkDeY9cCutv"
   },
   "source": [
    "### **.iloc : 순서번호로 추출**"
   ]
  },
  {
   "cell_type": "markdown",
   "metadata": {
    "id": "gJcz1A51DAkd"
   },
   "source": [
    "### 행열 전환 \n",
    "+ 데이터프레임.T"
   ]
  },
  {
   "cell_type": "markdown",
   "metadata": {
    "id": "bZ4T2mo9Dw7a"
   },
   "source": [
    "## 해결문제\n",
    "---\n",
    "해결문제) 부산시기온.csv파일을 읽어서 2018년 최고, 최저 기온을 추출하고 통계량을 표시하시오.\n",
    "\n",
    "\n",
    "---"
   ]
  },
  {
   "cell_type": "markdown",
   "metadata": {
    "id": "uITpQ5REEtS3"
   },
   "source": [
    "### 데이터 유형 확인 \n",
    "+ 데이터프레임.dtypes : 각열의 유형을 알려줌\n",
    "+ 열시리즈.astype() : 특정 유형으로 변경\n",
    " - .astype(float64) , .astype(float32) , .astype(float16), .astype(int)\n",
    " - .astype(str)\n",
    "+ pd.to_numeric() : 숫자 유형으로 변경\n",
    "  - errors 매개 변수 \n",
    "  - errors='ignore' : 무시\n",
    " - errors='coerce' : NaN\n",
    "\n",
    "+ pd.to_datetime(열명)\n",
    " - .dt.year : 년도\n",
    " - .dt.month : 월\n",
    " - .dt.day : 일 "
   ]
  },
  {
   "cell_type": "markdown",
   "metadata": {
    "id": "EXOt2pnIHn_Q"
   },
   "source": [
    "## 데이터프레임 인덱스 설정  \n",
    "+ set_index : 기존의 행 인덱스를 제거하고 데이터 열 중 하나를 인덱스로 설정\n",
    "+ reset_index : 기존의 행 인덱스를 제거하고 인덱스를 데이터 열로 추가"
   ]
  },
  {
   "cell_type": "markdown",
   "metadata": {
    "id": "eR9O_jAvJjfI"
   },
   "source": [
    "### 행열 삭제\n",
    "+ .drop(행인덱스, axis=0)\n",
    "+ .drop(열인덱스, axis=1)"
   ]
  },
  {
   "cell_type": "markdown",
   "metadata": {
    "id": "2Vil2EQvKVnp"
   },
   "source": [
    "### 정렬하기\n",
    "+ .sort_index()\n",
    " - 인덱스(index)를 기준으로 정렬\n",
    "+ .sort_values()\n",
    " - 컬럼의 값을 기준으로 데이터를 정렬\n",
    " - 옵션 : by=컬럼 , ascending=False"
   ]
  },
  {
   "cell_type": "markdown",
   "metadata": {
    "id": "xyx3JQeoLoQk"
   },
   "source": [
    "## 해결문제\n",
    "---\n",
    "해결문제)\n",
    " mv1.csv 파일을 읽어서 \n",
    " + 2019년 자료를 추출하여 평점 평균을 구하시오.\n",
    " + 1위부터 20위까지 평점 그래프를 그리시오.\n",
    "\n",
    "---"
   ]
  }
 ],
 "metadata": {
  "colab": {
   "authorship_tag": "ABX9TyN/vf62yyhcIAnjZnQExkDT",
   "collapsed_sections": [
    "btYtz3Af151C",
    "SbBCEYSy2tls",
    "vrG7QIAuRf33",
    "YbQ3QGhrHCd0",
    "lDLDNq94HzYi",
    "TTXWrvQnAfNC",
    "eBEuMg41J8X6",
    "N6KRdruZ_DbZ",
    "-wFv6-8u_nuE",
    "OGp5iVQe_7Vh",
    "kcXt1fpQBFtX",
    "NbkDeY9cCutv",
    "gJcz1A51DAkd",
    "uITpQ5REEtS3",
    "EXOt2pnIHn_Q",
    "eR9O_jAvJjfI",
    "2Vil2EQvKVnp"
   ],
   "mount_file_id": "1_amoDLzG3y8-2bs4rNmB2B0CJDFOR0P8",
   "name": "py03_pandas.ipynb",
   "provenance": [],
   "toc_visible": true
  },
  "kernelspec": {
   "display_name": "Python 3",
   "language": "python",
   "name": "python3"
  },
  "language_info": {
   "codemirror_mode": {
    "name": "ipython",
    "version": 3
   },
   "file_extension": ".py",
   "mimetype": "text/x-python",
   "name": "python",
   "nbconvert_exporter": "python",
   "pygments_lexer": "ipython3",
   "version": "3.7.6"
  }
 },
 "nbformat": 4,
 "nbformat_minor": 1
}
