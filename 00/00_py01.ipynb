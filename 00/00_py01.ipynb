{
 "cells": [
  {
   "cell_type": "markdown",
   "metadata": {},
   "source": [
    "---\n",
    "# 기본자료형\n",
    "---\n",
    "+ int : 소숫점을 갖지 않는 정수를 갖는 데이타 타입\n",
    "+ float : 소숫점을 갖는 데이타 타입\n",
    "+ bool : True 혹은 False 만을 갖는 타입\n",
    "+ str : 단일인용부호(') 혹은 이중인용부호(\") 를 사용하여 표현하는 문자, 단어 등으로 구성된 문자들의 집합\n"
   ]
  },
  {
   "cell_type": "code",
   "execution_count": 5,
   "metadata": {},
   "outputs": [
    {
     "name": "stdout",
     "output_type": "stream",
     "text": [
      "testtest\n",
      "<class 'str'>\n"
     ]
    }
   ],
   "source": [
    "s = \"test\"\n",
    "print(s+s)\n",
    "print(type(s))"
   ]
  },
  {
   "cell_type": "markdown",
   "metadata": {},
   "source": [
    "---\n",
    "## 문자열\n",
    "---\n",
    "### 문자열 연산\n",
    "+ 문자열 더하기(+)\n",
    "+ 문자열 곱하기(*)\n",
    "+ 문자열 인덱싱 : 문자열의 각 문자는 0부터 시작되는 인덱스를 가짐, 처음위치 [0], 마지막위치 [-1]\n",
    "+ 문자열 슬라이싱 \n",
    " - [인덱스1:인덱스2] : 인덱스1 위치에서 인덱스2 -1 위치까지 잘라냄\n",
    " - [인덱스1:] : 인덱스1 위치에서 끝까지 잘라냄\n",
    " - [: 인덱스2] : 처음부터 인덱스2 -1 위치까지 잘라냄 \n",
    " \n",
    "### 문자열 함수\n",
    "+ len() : 문자열 길이 구하기\n",
    "+ count() : 문자의 개수 구하기\n",
    "+ find() : 문자가 처음 나오는 위치 반환, 없으면 -1\n",
    "+ index() : 문자가 처음 나오는 위치 반환. 없으면 오류\n",
    "+ join() : 문자열 사이에 문자 삽입, ‘삽입문자’.join(문자열)\n",
    "+ upper() :소문자를 대문자로 변환\n",
    "+ lower() : 대문자를 소문자로 변환\n",
    "+ replace() : 문자열 바꾸기\n",
    "+ replace(원본, 변환문자)\n",
    "+ split() : 문자열 나누기, 인수가 없으면 공백(스페이스, 탭, 엔터 등)을 기준 "
   ]
  },
  {
   "cell_type": "code",
   "execution_count": 12,
   "metadata": {},
   "outputs": [
    {
     "name": "stdout",
     "output_type": "stream",
     "text": [
      "2\n"
     ]
    }
   ],
   "source": [
    "s = \"Hello!\"\n",
    "print(s.count('l'))"
   ]
  },
  {
   "cell_type": "markdown",
   "metadata": {
    "colab_type": "text",
    "id": "m2yjq_TAJJfM"
   },
   "source": [
    "\n",
    "\n",
    "---\n",
    "## 해결문제)\n",
    "1. 다음은 코로나바이러스에 대한 설명이다. 찾고자 하는 단어를 입력 받아서 해당 단어가 몇 번 언급되었는지 확인해 보세요.\n",
    "\n",
    "2. 다음은 코로나바이러스에 대한 설명이다. 몇 개의 문장으로 구성 되어 있는지 예시와 같이 출력하시오. 단, 문장은 마침표(.)로 끝난다.\n"
   ]
  },
  {
   "cell_type": "markdown",
   "metadata": {
    "colab_type": "text",
    "id": "upNhDZBgMCvM"
   },
   "source": [
    "### 풀이"
   ]
  },
  {
   "cell_type": "code",
   "execution_count": 13,
   "metadata": {
    "colab": {},
    "colab_type": "code",
    "id": "9M_ez6I4JdG_"
   },
   "outputs": [],
   "source": [
    "'''\n",
    "문자열변수\n",
    "코로나 설명\n",
    "'''\n",
    "\n",
    "\n",
    "\n",
    "ph = '''코로나(corona)는 라틴말로 왕관을 뜻하며 통상 태양을 둘러싼 외곽의 빛(광환)을 지칭한다. \n",
    "코로나바이러스라는 이름은 전자현미경으로 이 바이러스를 관찰했을 때 마치 코로나와 유사한 모양을 띠어 붙여진 이름이다. 이번에 중국의 우환에서 시작된 코로나바이러스는 2019년에 발견된 새로운 코로나바이러스라는 뜻으로 2019-nCoV로 붙여졌다. nCoV는 novel(새로운) CoV(코로나바이러스)라는 뜻이다. \n",
    "'''"
   ]
  },
  {
   "cell_type": "code",
   "execution_count": 14,
   "metadata": {
    "colab": {
     "base_uri": "https://localhost:8080/",
     "height": 53
    },
    "colab_type": "code",
    "executionInfo": {
     "elapsed": 673,
     "status": "ok",
     "timestamp": 1597970065234,
     "user": {
      "displayName": "kyungmin kim",
      "photoUrl": "",
      "userId": "16779723792716032082"
     },
     "user_tz": -540
    },
    "id": "fEAIdHgqb8RO",
    "outputId": "abd97cc8-0585-447f-c210-5187e8754f14"
   },
   "outputs": [
    {
     "data": {
      "text/plain": [
       "'코로나(corona)는 라틴말로 왕관을 뜻하며 통상 태양을 둘러싼 외곽의 빛(광환)을 지칭한다. \\n코로나바이러스라는 이름은 전자현미경으로 이 바이러스를 관찰했을 때 마치 코로나와 유사한 모양을 띠어 붙여진 이름이다. 이번에 중국의 우환에서 시작된 코로나바이러스는 2019년에 발견된 새로운 코로나바이러스라는 뜻으로 2019-nCoV로 붙여졌다. nCoV는 novel(새로운) CoV(코로나바이러스)라는 뜻이다. \\n'"
      ]
     },
     "execution_count": 14,
     "metadata": {},
     "output_type": "execute_result"
    }
   ],
   "source": [
    "ph"
   ]
  },
  {
   "cell_type": "code",
   "execution_count": null,
   "metadata": {
    "colab": {
     "base_uri": "https://localhost:8080/",
     "height": 73
    },
    "colab_type": "code",
    "executionInfo": {
     "elapsed": 431,
     "status": "ok",
     "timestamp": 1597972538960,
     "user": {
      "displayName": "kyungmin kim",
      "photoUrl": "",
      "userId": "16779723792716032082"
     },
     "user_tz": -540
    },
    "id": "KZIlMLq1KPBd",
    "outputId": "e47c576c-03a8-4023-bd61-132ed658f200"
   },
   "outputs": [
    {
     "name": "stdout",
     "output_type": "stream",
     "text": [
      "코로나(corona)는 라틴말로 왕관을 뜻하며 통상 태양을 둘러싼 외곽의 빛(광환)을 지칭한다. 코로나바이러스라는 이름은 전자현미경으로 이 바이러스를 관찰했을 때 마치 코로나와 유사한 모양을 띠어 붙여진 이름이다. 이번에 중국의 우환에서 시작된 코로나바이러스는 2019년에 발견된 새로운 코로나바이러스라는 뜻으로 2019-nCoV로 붙여졌다. nCoV는 novel(새로운) CoV(코로나바이러스)라는 뜻이다. \n",
      "\n"
     ]
    }
   ],
   "source": [
    "print(ph)"
   ]
  },
  {
   "cell_type": "code",
   "execution_count": 20,
   "metadata": {},
   "outputs": [
    {
     "name": "stdout",
     "output_type": "stream",
     "text": [
      "test3\n"
     ]
    }
   ],
   "source": [
    "num= 3\n",
    "print(f'test{num}')"
   ]
  },
  {
   "cell_type": "code",
   "execution_count": 15,
   "metadata": {
    "colab": {
     "base_uri": "https://localhost:8080/",
     "height": 53
    },
    "colab_type": "code",
    "executionInfo": {
     "elapsed": 18549,
     "status": "ok",
     "timestamp": 1597972557111,
     "user": {
      "displayName": "kyungmin kim",
      "photoUrl": "",
      "userId": "16779723792716032082"
     },
     "user_tz": -540
    },
    "id": "KtcQRvTZMJPU",
    "outputId": "2808a3b0-d263-4e47-f63d-ccdfcec7f865"
   },
   "outputs": [
    {
     "name": "stdout",
     "output_type": "stream",
     "text": [
      "찾고자 하는 단어를 입력하세요.코로나\n",
      "코로나는 6번 언급되었습니다.\n"
     ]
    }
   ],
   "source": [
    "#1.\n",
    "word = input('찾고자 하는 단어를 입력하세요.')\n",
    "print(f'{word}는 {ph.count(word)}번 언급되었습니다.')"
   ]
  },
  {
   "cell_type": "code",
   "execution_count": 23,
   "metadata": {
    "colab": {
     "base_uri": "https://localhost:8080/",
     "height": 145
    },
    "colab_type": "code",
    "executionInfo": {
     "elapsed": 642,
     "status": "ok",
     "timestamp": 1597972948707,
     "user": {
      "displayName": "kyungmin kim",
      "photoUrl": "",
      "userId": "16779723792716032082"
     },
     "user_tz": -540
    },
    "id": "NhuCFVlNSIE-",
    "outputId": "5534ed4c-680d-4b14-ae73-cdc94a5a646a"
   },
   "outputs": [
    {
     "name": "stdout",
     "output_type": "stream",
     "text": [
      "['코로나(corona)는 라틴말로 왕관을 뜻하며 통상 태양을 둘러싼 외곽의 빛(광환)을 지칭한다', ' \\n코로나바이러스라는 이름은 전자현미경으로 이 바이러스를 관찰했을 때 마치 코로나와 유사한 모양을 띠어 붙여진 이름이다', ' 이번에 중국의 우환에서 시작된 코로나바이러스는 2019년에 발견된 새로운 코로나바이러스라는 뜻으로 2019-nCoV로 붙여졌다', ' nCoV는 novel(새로운) CoV(코로나바이러스)라는 뜻이다', ' \\n']\n"
     ]
    }
   ],
   "source": [
    "#2.\n",
    "stList = ph.split('.')\n",
    "print(stList)"
   ]
  },
  {
   "cell_type": "code",
   "execution_count": 24,
   "metadata": {},
   "outputs": [
    {
     "name": "stdout",
     "output_type": "stream",
     "text": [
      "['코로나(corona)는 라틴말로 왕관을 뜻하며 통상 태양을 둘러싼 외곽의 빛(광환)을 지칭한다', ' \\n코로나바이러스라는 이름은 전자현미경으로 이 바이러스를 관찰했을 때 마치 코로나와 유사한 모양을 띠어 붙여진 이름이다', ' 이번에 중국의 우환에서 시작된 코로나바이러스는 2019년에 발견된 새로운 코로나바이러스라는 뜻으로 2019-nCoV로 붙여졌다', ' nCoV는 novel(새로운) CoV(코로나바이러스)라는 뜻이다']\n"
     ]
    }
   ],
   "source": [
    "stList.pop()\n",
    "print(stList)\n"
   ]
  },
  {
   "cell_type": "code",
   "execution_count": null,
   "metadata": {},
   "outputs": [],
   "source": [
    "print(f'{len(stList)}개의 문장으로 이루어져 있습니다.')\n",
    "for s in stList:\n",
    "  print(s)"
   ]
  },
  {
   "cell_type": "code",
   "execution_count": null,
   "metadata": {
    "colab": {
     "base_uri": "https://localhost:8080/",
     "height": 89
    },
    "colab_type": "code",
    "executionInfo": {
     "elapsed": 645,
     "status": "ok",
     "timestamp": 1597972998691,
     "user": {
      "displayName": "kyungmin kim",
      "photoUrl": "",
      "userId": "16779723792716032082"
     },
     "user_tz": -540
    },
    "id": "Z6WEUvzjl_2V",
    "outputId": "c122ec2a-087c-4bec-d0a2-d2dd98520fd1"
   },
   "outputs": [
    {
     "name": "stdout",
     "output_type": "stream",
     "text": [
      "코로나(corona)는 라틴말로 왕관을 뜻하며 통상 태양을 둘러싼 외곽의 빛(광환)을 지칭한다\n",
      "코로나바이러스라는 이름은 전자현미경으로 이 바이러스를 관찰했을 때 마치 코로나와 유사한 모양을 띠어 붙여진 이름이다\n",
      "이번에 중국의 우환에서 시작된 코로나바이러스는 2019년에 발견된 새로운 코로나바이러스라는 뜻으로 2019-nCoV로 붙여졌다\n",
      "nCoV는 novel(새로운) CoV(코로나바이러스)라는 뜻이다\n"
     ]
    }
   ],
   "source": [
    "for st in stList:\n",
    "  print(st.strip())"
   ]
  },
  {
   "attachments": {
    "collection.png": {
     "image/png": "[encoded data removed]"
    }
   },
   "cell_type": "markdown",
   "metadata": {
    "colab_type": "text",
    "id": "CUk5_Q0CFys5"
   },
   "source": [
    "# Python 컬렉션(collection) 자료형\n",
    "![collection.png](attachment:collection.png)\n"
   ]
  },
  {
   "cell_type": "code",
   "execution_count": 29,
   "metadata": {},
   "outputs": [
    {
     "name": "stdout",
     "output_type": "stream",
     "text": [
      "<class 'dict'>\n"
     ]
    }
   ],
   "source": [
    "data = {'a':1,'b':2,'c':3}\n",
    "print(type(data))"
   ]
  },
  {
   "cell_type": "code",
   "execution_count": 32,
   "metadata": {},
   "outputs": [
    {
     "name": "stdout",
     "output_type": "stream",
     "text": [
      "[1, 2, 3, 5, 6]\n"
     ]
    }
   ],
   "source": [
    "data1 = [1,2,3,2,2,5,6]\n",
    "data1 = set(data1)\n",
    "print(list(data1))"
   ]
  },
  {
   "cell_type": "markdown",
   "metadata": {},
   "source": [
    "----\n",
    "## 리스트(list)\n",
    "---\n",
    "### 특징\n",
    "+ 리스트의 각 요소는 순서를 가지고 있음\n",
    "+ 대괄호([])로 작성되며 각 요소는 쉼표(,)로 구분\n",
    "+ 요소를 추가, 수정, 삭제 가능\n",
    "\n",
    "### 리스트 생성\n",
    "+ \\[\\]나 리스트 함수\n",
    "\n",
    "### 인덱싱\n",
    "+ 요소의 선택은 0부터 시작되는 인덱스로 접근\n",
    "+ 리스트명[인덱스]\n",
    "\n",
    "### 슬라이싱\n",
    "+ 요소의 일부분 선택\n",
    "+ 리스트명[시작인덱스:종료인덱스] : 종료인덱스는 포함되지 않음\n",
    "\n",
    "### 리스트 연산 \n",
    "+ \\+ 연산 : 리스트와 리스트 연결\n",
    "+ \\* 연산 : 리스트 요소 반복\n",
    "\n",
    "### 메소드\n",
    "+ 리스트 추가\n",
    " - 리스트명.append(추가요소) : 마지막에 추가\n",
    " - 리스트명.insert(인덱스, 추가요소) : 해당 인덱스에 요소 추가\n",
    "+ 리스트 삭제\n",
    " - 리스트명.pop() : 마지막 요소 삭제\n",
    " - 리스트명.pop(인덱스) : 해당 인덱스 요소 삭제\n",
    " - 리스트명.remove(요소값) : 해당 요소값 삭제, 해당 값이 없으면 오류\n",
    "+ 리스트 수정 \n",
    " - 리스트명[인덱스]=변경값 \n",
    "+ 리스트 위치 반환\n",
    " - 리스트명.index(요소값) : 해당 요소값의 위치를 반환, 여러 개 요소가 존재하면 첫번째 위치 반환하고 없으면 오류\n",
    "+ 리스트 요소 개수 구하기\n",
    " - 리스트명.count(요소값)\n",
    "+ 리스트 정렬\n",
    " - 리스트명.sort() : 오름차순\n",
    " - 리스트명.sort(reverse=True): 내림차순\n",
    "+ 리스트 뒤집기\n",
    " - 리스트명.revers() : 요소를 역순으로 뒤집어 줌 "
   ]
  },
  {
   "cell_type": "code",
   "execution_count": 37,
   "metadata": {},
   "outputs": [
    {
     "name": "stdout",
     "output_type": "stream",
     "text": [
      "숫자입력1\n",
      "숫자입력4\n",
      "5는 3의 배수 아님\n",
      "0\n",
      "1\n",
      "2\n",
      "3\n",
      "4\n"
     ]
    }
   ],
   "source": [
    "#입력 \n",
    "x = int(input('숫자입력'))\n",
    "y = int(input('숫자입력'))\n",
    "ans = x + y\n",
    "\n",
    "if ans % 3== 0 :\n",
    "    print(f'{ans}는 3의 배수')\n",
    "elif ans % 3 == 1:\n",
    "    print(f'{ans}는 3의 배수 아님') \n",
    "else : \n",
    "    print(f'{ans}는 3의 배수 아님')\n",
    "\n",
    "    \n",
    "for i in range(ans):\n",
    "    print(i)"
   ]
  },
  {
   "cell_type": "code",
   "execution_count": 39,
   "metadata": {},
   "outputs": [
    {
     "name": "stdout",
     "output_type": "stream",
     "text": [
      "range(1, 5)\n"
     ]
    }
   ],
   "source": [
    "print(range(1,ans))"
   ]
  },
  {
   "cell_type": "code",
   "execution_count": 42,
   "metadata": {},
   "outputs": [
    {
     "name": "stdout",
     "output_type": "stream",
     "text": [
      "1\n",
      "3\n"
     ]
    }
   ],
   "source": [
    "for i in range(1,ans,2):\n",
    "    print(i)"
   ]
  },
  {
   "cell_type": "code",
   "execution_count": 46,
   "metadata": {},
   "outputs": [
    {
     "name": "stdout",
     "output_type": "stream",
     "text": [
      "2\n",
      "11\n",
      "23\n"
     ]
    }
   ],
   "source": [
    "lt = {11,2, 23}\n",
    "\n",
    "for i in lt :\n",
    "    print(i)"
   ]
  },
  {
   "cell_type": "code",
   "execution_count": 44,
   "metadata": {},
   "outputs": [
    {
     "name": "stdout",
     "output_type": "stream",
     "text": [
      "t\n",
      "e\n",
      "s\n",
      "t\n"
     ]
    }
   ],
   "source": [
    "s = \"test\"\n",
    "for i in s :\n",
    "    print(i)"
   ]
  },
  {
   "cell_type": "code",
   "execution_count": 53,
   "metadata": {},
   "outputs": [
    {
     "name": "stdout",
     "output_type": "stream",
     "text": [
      "('a', {'aa': 1})\n",
      "('b', 2)\n"
     ]
    }
   ],
   "source": [
    "dt = {'a': {'aa':1}, 'b':2}\n",
    "for i in dt.items() :\n",
    "    print(i)"
   ]
  },
  {
   "cell_type": "code",
   "execution_count": 52,
   "metadata": {},
   "outputs": [
    {
     "name": "stdout",
     "output_type": "stream",
     "text": [
      "10, 20\n"
     ]
    }
   ],
   "source": [
    "x , y = 10, 20\n",
    "\n",
    "print(f'{x}, {y}')"
   ]
  },
  {
   "cell_type": "markdown",
   "metadata": {},
   "source": [
    "---\n",
    "## 튜플(tuple)\n",
    "---\n",
    "### 특징\n",
    "+ 튜플의 각 요소는 순서를 가지고 있음\n",
    "+ 괄호(())로 작성되며 각 요소는 쉼표(,)로 구분\n",
    "+ 요소를 추가, 수정, 삭제 불가능\n",
    "+ 한번 결정된 요소는 변경 불가능\n",
    "+ 인덱싱과 슬라이싱은 리스트와 동일\n",
    "+ \\+와 \\*연산은 리스트와 동일\n",
    "+ 각 요소에 변수 할당 가능\n",
    "x, y = (10, 20) "
   ]
  },
  {
   "cell_type": "markdown",
   "metadata": {},
   "source": [
    "---\n",
    "## 딕션너리(dictionary)\n",
    "---\n",
    "### 특징\n",
    "+ 키(key)와 값(value) 쌍을 요소로 가짐\n",
    "+ 중괄호({})로 작성되며 각 요소는 쉼표(,)로 구분\n",
    "+ 순서 없음 \n",
    "+ 키는 변경할 수 없으며 값은 변경가능 \n",
    "\n",
    "### 딕션너리 접근\n",
    "+ 특정 요소 값 : 딕션너리명[키]\n",
    "+ 요소 키 컬렉션  : 딕션너리명.keys()\n",
    "+ 요소 값 컬렉션 : 딕션너리명.values()\n",
    "+ 키와 요소 컬렉션은 list() 생성자로 리스트로 변환가능\n",
    "\n",
    "### 요소 추가\n",
    "+ 딕션너리명[추가키]=값\n",
    "\n",
    "### 요소 수정\n",
    "+ 딕션너리명[키]=값\n",
    "\n",
    "### 요소 삭제\n",
    "+ del 딕션너리명[키]\n",
    "+ 딕션너리명.pop[키] "
   ]
  },
  {
   "cell_type": "markdown",
   "metadata": {},
   "source": [
    "---\n",
    "## 집합(set)\n",
    "---\n",
    "### 특징\n",
    "- 중복 없는 요소로만 구성\n",
    "- 중괄호({}) 작성되며 각 요소는 쉼표(,)로 구분\n",
    "- 순서 없음\n",
    "\n",
    "### 생성자 set()\n",
    "- 리스트나 튜플의 중복 요소 제거 \n",
    "\n",
    "### 요소 추가\n",
    "- 집합명.add(요소) : 하나의 요소 추가\n",
    "- 집합명.update(추가집합) : 여러 요소를 추가\n",
    "\n",
    "### 요소 삭제\n",
    "- 집합명.remove(요소값): 하나의 요소 삭제\n",
    "- 집합명.clear() : 모든 요소 삭제 \n",
    "\n",
    "### 집합 연산\n",
    "+ 교집합 : \\&\n",
    "+ 합집합 : \\|\n",
    "+ 차집합 : \\- "
   ]
  },
  {
   "cell_type": "markdown",
   "metadata": {},
   "source": [
    "---\n",
    "## 컬렉션 데이터\n",
    "---\n",
    "### 컬렉션 데이터 모든 요소에 접근 \n",
    "+ for 요소변수 in 컬렉션명 :\n",
    "\n",
    "### 내장함수\n",
    "+ len(컬렉션명) : 컬렉션 요소 개수\n",
    "+ max(컬렉션명) : 가장 큰 요소 값 반환,딕션너리인 경우는 키 값 중 가장 큰 요소 반환\n",
    "+ min(컬렉션명) : 가장 작은 요소 값 반환, 딕션너리인 경우는 키 값 중 가장 작은 요소 반환\n",
    "+ sum(컬렉션명) : 수치 요소로 이루어진 컬렉션 요소의 합, 딕션너리인 경우는 키 값의 합\n",
    "+ sorted(컬렉션명) : 컬렉션요소 정렬, 딕션너리인 경우는 키 값을 정렬하여 키 리스트 반환"
   ]
  },
  {
   "cell_type": "markdown",
   "metadata": {
    "colab_type": "text",
    "id": "yXXKMkEgG7Y9"
   },
   "source": [
    "\n",
    "\n",
    "---\n",
    "\n",
    "\n",
    "## 해결문제)\n",
    "다음 3월의 기온자료 리스트를 이용하여 최고, 최저, 평균기온을 구하시오.\n",
    "\n",
    "\n",
    "---\n",
    "\n"
   ]
  },
  {
   "cell_type": "code",
   "execution_count": null,
   "metadata": {
    "colab": {},
    "colab_type": "code",
    "id": "s314rsMLG599"
   },
   "outputs": [],
   "source": [
    "#부산 3월 기온\n",
    "temp = [10.8, 8.5, 8.7, 7.9, 5.1, \n",
    "        8.1, 8.2, 10.4, 11, 9.9, \n",
    "        7.8, 9.5, 11.6, 8.2, 7.7, \n",
    "        6.6, 11.1, 12.2, 12.6, 10.4, \n",
    "        13.7, 14.1, 12.6, 11.5, 13, \n",
    "        14.5, 13.7, 9.4, 10.4, 11.6, 12.9]\n"
   ]
  },
  {
   "cell_type": "markdown",
   "metadata": {
    "colab_type": "text",
    "id": "UT4KAnPtL8gh"
   },
   "source": [
    "### 풀이)"
   ]
  },
  {
   "cell_type": "code",
   "execution_count": null,
   "metadata": {
    "colab": {
     "base_uri": "https://localhost:8080/",
     "height": 35
    },
    "colab_type": "code",
    "executionInfo": {
     "elapsed": 689,
     "status": "ok",
     "timestamp": 1597969609407,
     "user": {
      "displayName": "kyungmin kim",
      "photoUrl": "",
      "userId": "16779723792716032082"
     },
     "user_tz": -540
    },
    "id": "Q8DYbUJwKccd",
    "outputId": "9e55ef53-1d8b-4ece-b759-b9262d4fa21c"
   },
   "outputs": [
    {
     "name": "stdout",
     "output_type": "stream",
     "text": [
      "평균 기온 :  10.44\n"
     ]
    }
   ],
   "source": [
    "avg = sum(temp) / len(temp)\n",
    "print(f'평균 기온 : {avg : 0.2f}')"
   ]
  },
  {
   "cell_type": "code",
   "execution_count": null,
   "metadata": {
    "colab": {
     "base_uri": "https://localhost:8080/",
     "height": 35
    },
    "colab_type": "code",
    "executionInfo": {
     "elapsed": 673,
     "status": "ok",
     "timestamp": 1597969619974,
     "user": {
      "displayName": "kyungmin kim",
      "photoUrl": "",
      "userId": "16779723792716032082"
     },
     "user_tz": -540
    },
    "id": "cmxthrmzLg7X",
    "outputId": "f33fdb68-f78d-4e59-d3dc-2cf7d7117922"
   },
   "outputs": [
    {
     "name": "stdout",
     "output_type": "stream",
     "text": [
      "최저온도 : 5.1\n"
     ]
    }
   ],
   "source": [
    "print(f'최저온도 : {min(temp)}')"
   ]
  },
  {
   "cell_type": "code",
   "execution_count": null,
   "metadata": {
    "colab": {
     "base_uri": "https://localhost:8080/",
     "height": 35
    },
    "colab_type": "code",
    "executionInfo": {
     "elapsed": 668,
     "status": "ok",
     "timestamp": 1597969622567,
     "user": {
      "displayName": "kyungmin kim",
      "photoUrl": "",
      "userId": "16779723792716032082"
     },
     "user_tz": -540
    },
    "id": "1bwCOYwDLq3T",
    "outputId": "925c0c8d-13f7-401c-c759-becd2e2f3508"
   },
   "outputs": [
    {
     "name": "stdout",
     "output_type": "stream",
     "text": [
      "최고온도 : 5.1\n"
     ]
    }
   ],
   "source": [
    "print(f'최고온도 : {min(temp)}')"
   ]
  },
  {
   "cell_type": "markdown",
   "metadata": {
    "colab_type": "text",
    "id": "3AXeWbygW_jU"
   },
   "source": [
    "\n",
    "\n",
    "---\n",
    "\n",
    "\n",
    "## 해결문제)\n",
    "기상청에서 제공하는 지역별 식중독 지수를 참고하여 해당 지역의 단계를 설정하고 대응요령을 출력하시오.\n",
    "\n",
    "+ 단계별 대응\n",
    " + 위험 : 86 이상 \n",
    "   + 설사, 구토 등 식중독 의심 증상이 있으면 의료기관을 방문하여 의사 지시에 따름\n",
    " + 경고:71 이상 86 미만\n",
    "   + 조리도구는 세척, 소독 등을 거쳐 세균오염을 방지하고 유통기한, 보관방법 등을 확인하여 음식물 조리. 보관에 각별히 주의하여야 함\n",
    " + 주의:55 이상 71 미만\n",
    "   + 조리음식은 중심부까지 75℃(어패류 85℃)로 1분 이상 완전히 익히고 외부로 운반할 때에는 가급적 아이스박스 등을 이용하여 10℃이하에서 보관 및 운반\n",
    " + 관심:55 미만\n",
    "   + 화장실 사용 후, 귀가 후, 조리 전에 손 씻기를 생활화\n",
    "```"
   ]
  },
  {
   "cell_type": "code",
   "execution_count": 2,
   "metadata": {
    "colab": {},
    "colab_type": "code",
    "id": "mpiZHe3MXIeD"
   },
   "outputs": [],
   "source": [
    "show = {'위험':'설사, 구토 등 식중독 의심 증상이 있으면 의료기관을 방문하여 의사 지시에 따름', \n",
    "        '경고':'조리도구는 세척, 소독 등을 거쳐 세균오염을 방지하고 유통기한, 보관방법 등을 확인하여 음식물 조리. 보관에 각별히 주의하여야 함', \n",
    "        '주의':'조리음식은 중심부까지 75℃(어패류 85℃)로 1분 이상 완전히 익히고 외부로 운반할 때에는 가급적 아이스박스 등을 이용하여 10℃이하에서 보관 및 운반', \n",
    "        '관심':'화장실 사용 후, 귀가 후, 조리 전에 손 씻기를 생활화' }\n",
    "\n",
    "\n",
    "area = { \"서울시\" :57 , \"부산시\":\t62, \"대구시\" :\t59, \n",
    "        \"인천시\" :\t59 ,  \"강화군\" :58 , \"서해5도\" :64 ,\n",
    "        \"광주시\" :\t62 , \"대전시\" :60 , \"울산시\" :53 , \"세종시\" :58 }\n"
   ]
  },
  {
   "cell_type": "code",
   "execution_count": 10,
   "metadata": {},
   "outputs": [
    {
     "data": {
      "text/plain": [
       "['설사, 구토 등 식중독 의심 증상이 있으면 의료기관을 방문하여 의사 지시에 따름',\n",
       " '조리도구는 세척, 소독 등을 거쳐 세균오염을 방지하고 유통기한, 보관방법 등을 확인하여 음식물 조리. 보관에 각별히 주의하여야 함',\n",
       " '조리음식은 중심부까지 75℃(어패류 85℃)로 1분 이상 완전히 익히고 외부로 운반할 때에는 가급적 아이스박스 등을 이용하여 10℃이하에서 보관 및 운반',\n",
       " '화장실 사용 후, 귀가 후, 조리 전에 손 씻기를 생활화']"
      ]
     },
     "execution_count": 10,
     "metadata": {},
     "output_type": "execute_result"
    }
   ],
   "source": [
    "#리스트로 만들기 \n",
    "showv = list(show.values())\n",
    "showv\n"
   ]
  },
  {
   "cell_type": "code",
   "execution_count": 9,
   "metadata": {},
   "outputs": [
    {
     "data": {
      "text/plain": [
       "['위험', '경고', '주의', '관심']"
      ]
     },
     "execution_count": 9,
     "metadata": {},
     "output_type": "execute_result"
    }
   ],
   "source": [
    "showk = list(show.keys())\n",
    "showk"
   ]
  },
  {
   "cell_type": "code",
   "execution_count": 13,
   "metadata": {},
   "outputs": [
    {
     "data": {
      "text/plain": [
       "{'위험': '설사, 구토 등 식중독 의심 증상이 있으면 의료기관을 방문하여 의사 지시에 따름',\n",
       " '경고': '조리도구는 세척, 소독 등을 거쳐 세균오염을 방지하고 유통기한, 보관방법 등을 확인하여 음식물 조리. 보관에 각별히 주의하여야 함',\n",
       " '주의': '조리음식은 중심부까지 75℃(어패류 85℃)로 1분 이상 완전히 익히고 외부로 운반할 때에는 가급적 아이스박스 등을 이용하여 10℃이하에서 보관 및 운반',\n",
       " '관심': '화장실 사용 후, 귀가 후, 조리 전에 손 씻기를 생활화'}"
      ]
     },
     "execution_count": 13,
     "metadata": {},
     "output_type": "execute_result"
    }
   ],
   "source": [
    "show2 = dict(zip(showk, showv))\n",
    "show2"
   ]
  },
  {
   "cell_type": "code",
   "execution_count": 15,
   "metadata": {},
   "outputs": [
    {
     "name": "stdout",
     "output_type": "stream",
     "text": [
      "설사, 구토 등 식중독 의심 증상이 있으면 의료기관을 방문하여 의사 지시에 따름\n",
      "조리도구는 세척, 소독 등을 거쳐 세균오염을 방지하고 유통기한, 보관방법 등을 확인하여 음식물 조리. 보관에 각별히 주의하여야 함\n",
      "조리음식은 중심부까지 75℃(어패류 85℃)로 1분 이상 완전히 익히고 외부로 운반할 때에는 가급적 아이스박스 등을 이용하여 10℃이하에서 보관 및 운반\n",
      "화장실 사용 후, 귀가 후, 조리 전에 손 씻기를 생활화\n"
     ]
    }
   ],
   "source": [
    "for key in show :\n",
    "    print(show[key])"
   ]
  },
  {
   "cell_type": "code",
   "execution_count": 16,
   "metadata": {},
   "outputs": [
    {
     "name": "stdout",
     "output_type": "stream",
     "text": [
      "('위험', '설사, 구토 등 식중독 의심 증상이 있으면 의료기관을 방문하여 의사 지시에 따름')\n",
      "('경고', '조리도구는 세척, 소독 등을 거쳐 세균오염을 방지하고 유통기한, 보관방법 등을 확인하여 음식물 조리. 보관에 각별히 주의하여야 함')\n",
      "('주의', '조리음식은 중심부까지 75℃(어패류 85℃)로 1분 이상 완전히 익히고 외부로 운반할 때에는 가급적 아이스박스 등을 이용하여 10℃이하에서 보관 및 운반')\n",
      "('관심', '화장실 사용 후, 귀가 후, 조리 전에 손 씻기를 생활화')\n"
     ]
    }
   ],
   "source": [
    "for item in show.items():\n",
    "    print(item)"
   ]
  },
  {
   "cell_type": "code",
   "execution_count": 18,
   "metadata": {},
   "outputs": [
    {
     "name": "stdout",
     "output_type": "stream",
     "text": [
      "위험 => 설사, 구토 등 식중독 의심 증상이 있으면 의료기관을 방문하여 의사 지시에 따름\n",
      "경고 => 조리도구는 세척, 소독 등을 거쳐 세균오염을 방지하고 유통기한, 보관방법 등을 확인하여 음식물 조리. 보관에 각별히 주의하여야 함\n",
      "주의 => 조리음식은 중심부까지 75℃(어패류 85℃)로 1분 이상 완전히 익히고 외부로 운반할 때에는 가급적 아이스박스 등을 이용하여 10℃이하에서 보관 및 운반\n",
      "관심 => 화장실 사용 후, 귀가 후, 조리 전에 손 씻기를 생활화\n"
     ]
    }
   ],
   "source": [
    "for k, v in show.items():\n",
    "    print(f'{k} => {v}' )"
   ]
  },
  {
   "cell_type": "code",
   "execution_count": 21,
   "metadata": {},
   "outputs": [
    {
     "name": "stdout",
     "output_type": "stream",
     "text": [
      "서울시 => 57\n",
      "조리음식은 중심부까지 75℃(어패류 85℃)로 1분 이상 완전히 익히고 외부로 운반할 때에는 가급적 아이스박스 등을 이용하여 10℃이하에서 보관 및 운반\n",
      "부산시 => 62\n",
      "조리음식은 중심부까지 75℃(어패류 85℃)로 1분 이상 완전히 익히고 외부로 운반할 때에는 가급적 아이스박스 등을 이용하여 10℃이하에서 보관 및 운반\n",
      "대구시 => 59\n",
      "조리음식은 중심부까지 75℃(어패류 85℃)로 1분 이상 완전히 익히고 외부로 운반할 때에는 가급적 아이스박스 등을 이용하여 10℃이하에서 보관 및 운반\n",
      "인천시 => 59\n",
      "조리음식은 중심부까지 75℃(어패류 85℃)로 1분 이상 완전히 익히고 외부로 운반할 때에는 가급적 아이스박스 등을 이용하여 10℃이하에서 보관 및 운반\n",
      "강화군 => 58\n",
      "조리음식은 중심부까지 75℃(어패류 85℃)로 1분 이상 완전히 익히고 외부로 운반할 때에는 가급적 아이스박스 등을 이용하여 10℃이하에서 보관 및 운반\n",
      "서해5도 => 64\n",
      "조리음식은 중심부까지 75℃(어패류 85℃)로 1분 이상 완전히 익히고 외부로 운반할 때에는 가급적 아이스박스 등을 이용하여 10℃이하에서 보관 및 운반\n",
      "광주시 => 62\n",
      "조리음식은 중심부까지 75℃(어패류 85℃)로 1분 이상 완전히 익히고 외부로 운반할 때에는 가급적 아이스박스 등을 이용하여 10℃이하에서 보관 및 운반\n",
      "대전시 => 60\n",
      "조리음식은 중심부까지 75℃(어패류 85℃)로 1분 이상 완전히 익히고 외부로 운반할 때에는 가급적 아이스박스 등을 이용하여 10℃이하에서 보관 및 운반\n",
      "울산시 => 53\n",
      "화장실 사용 후, 귀가 후, 조리 전에 손 씻기를 생활화\n",
      "세종시 => 58\n",
      "조리음식은 중심부까지 75℃(어패류 85℃)로 1분 이상 완전히 익히고 외부로 운반할 때에는 가급적 아이스박스 등을 이용하여 10℃이하에서 보관 및 운반\n"
     ]
    }
   ],
   "source": [
    "'''\n",
    "위험 : 86 이상 \n",
    "경고:71 이상 86 미만   \n",
    "주의:55 이상 71 미만\n",
    "관심:55 미만\n",
    "'''\n",
    "for k, v in area.items():\n",
    "    print(f'{k} => {v}' )\n",
    "    if v >= 86 : print(show['위험'])\n",
    "    elif v >= 71 : print(show['경고'])\n",
    "    elif v >= 55 : print(show['주의'])\n",
    "    else : print(show['관심'])"
   ]
  },
  {
   "cell_type": "code",
   "execution_count": 23,
   "metadata": {},
   "outputs": [
    {
     "name": "stdout",
     "output_type": "stream",
     "text": [
      "{'서울시': '주의', '부산시': '주의', '대구시': '주의', '인천시': '주의', '강화군': '주의', '서해5도': '주의', '광주시': '주의', '대전시': '주의', '울산시': '관심', '세종시': '주의'}\n"
     ]
    }
   ],
   "source": [
    "areashow = {}\n",
    "\n",
    "for k, v in area.items(): \n",
    "    if v >= 86 : areashow[k] = '위험'\n",
    "    elif v >= 71 :areashow[k] ='경고' \n",
    "    elif v >= 55 : areashow[k] ='주의'\n",
    "    else : areashow[k] ='관심'\n",
    "\n",
    "print(areashow)"
   ]
  },
  {
   "cell_type": "code",
   "execution_count": 26,
   "metadata": {},
   "outputs": [
    {
     "name": "stdout",
     "output_type": "stream",
     "text": [
      "서울시 : 주의 (57)\n",
      "=> 조리음식은 중심부까지 75℃(어패류 85℃)로 1분 이상 완전히 익히고 외부로 운반할 때에는 가급적 아이스박스 등을 이용하여 10℃이하에서 보관 및 운반 \n",
      "부산시 : 주의 (62)\n",
      "=> 조리음식은 중심부까지 75℃(어패류 85℃)로 1분 이상 완전히 익히고 외부로 운반할 때에는 가급적 아이스박스 등을 이용하여 10℃이하에서 보관 및 운반 \n",
      "대구시 : 주의 (59)\n",
      "=> 조리음식은 중심부까지 75℃(어패류 85℃)로 1분 이상 완전히 익히고 외부로 운반할 때에는 가급적 아이스박스 등을 이용하여 10℃이하에서 보관 및 운반 \n",
      "인천시 : 주의 (59)\n",
      "=> 조리음식은 중심부까지 75℃(어패류 85℃)로 1분 이상 완전히 익히고 외부로 운반할 때에는 가급적 아이스박스 등을 이용하여 10℃이하에서 보관 및 운반 \n",
      "강화군 : 주의 (58)\n",
      "=> 조리음식은 중심부까지 75℃(어패류 85℃)로 1분 이상 완전히 익히고 외부로 운반할 때에는 가급적 아이스박스 등을 이용하여 10℃이하에서 보관 및 운반 \n",
      "서해5도 : 주의 (64)\n",
      "=> 조리음식은 중심부까지 75℃(어패류 85℃)로 1분 이상 완전히 익히고 외부로 운반할 때에는 가급적 아이스박스 등을 이용하여 10℃이하에서 보관 및 운반 \n",
      "광주시 : 주의 (62)\n",
      "=> 조리음식은 중심부까지 75℃(어패류 85℃)로 1분 이상 완전히 익히고 외부로 운반할 때에는 가급적 아이스박스 등을 이용하여 10℃이하에서 보관 및 운반 \n",
      "대전시 : 주의 (60)\n",
      "=> 조리음식은 중심부까지 75℃(어패류 85℃)로 1분 이상 완전히 익히고 외부로 운반할 때에는 가급적 아이스박스 등을 이용하여 10℃이하에서 보관 및 운반 \n",
      "울산시 : 관심 (53)\n",
      "=> 화장실 사용 후, 귀가 후, 조리 전에 손 씻기를 생활화 \n",
      "세종시 : 주의 (58)\n",
      "=> 조리음식은 중심부까지 75℃(어패류 85℃)로 1분 이상 완전히 익히고 외부로 운반할 때에는 가급적 아이스박스 등을 이용하여 10℃이하에서 보관 및 운반 \n"
     ]
    }
   ],
   "source": [
    "for k, v in areashow.items(): \n",
    "    print(f'{k} : {v} ({area[k]})\\n=> {show[v]} ')"
   ]
  }
 ],
 "metadata": {
  "colab": {
   "collapsed_sections": [
    "ietp2_05KHr8",
    "shrYf5spMCdq",
    "_SoM1g2HMM2o"
   ],
   "name": "py01.ipynb",
   "provenance": [],
   "toc_visible": true
  },
  "kernelspec": {
   "display_name": "Python 3",
   "language": "python",
   "name": "python3"
  },
  "language_info": {
   "codemirror_mode": {
    "name": "ipython",
    "version": 3
   },
   "file_extension": ".py",
   "mimetype": "text/x-python",
   "name": "python",
   "nbconvert_exporter": "python",
   "pygments_lexer": "ipython3",
   "version": "3.7.6"
  }
 },
 "nbformat": 4,
 "nbformat_minor": 1
}
